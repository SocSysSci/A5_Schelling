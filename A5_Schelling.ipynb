{
  "nbformat": 4,
  "nbformat_minor": 0,
  "metadata": {
    "colab": {
      "name": "SocSysSci_06_Schelling.ipynb",
      "provenance": [],
      "collapsed_sections": []
    },
    "kernelspec": {
      "display_name": "Python 3",
      "name": "python3"
    }
  },
  "cells": [
    {
      "cell_type": "markdown",
      "metadata": {
        "id": "2QJF53CZV6Yd"
      },
      "source": [
        "### 必要なパッケージの読み込み"
      ]
    },
    {
      "cell_type": "code",
      "metadata": {
        "id": "bWQY_0gZ7Fcu"
      },
      "source": [
        "import random\n",
        "import matplotlib.pyplot as plt\n",
        "from matplotlib import animation\n",
        "from IPython.display import HTML"
      ],
      "execution_count": null,
      "outputs": []
    },
    {
      "cell_type": "markdown",
      "metadata": {
        "id": "KHRyJq8fV2lk"
      },
      "source": [
        "### セル空間（環境）のプログラム"
      ]
    },
    {
      "cell_type": "code",
      "metadata": {
        "id": "vKqel7NJEzhq"
      },
      "source": [
        "class CellSpace:\n",
        "  def __init__(self, width, height):\n",
        "    self.width = width\n",
        "    self.height = height\n",
        "    self.cells = [[None for _ in range(height)] for _ in range(width)]\n",
        "    self.agent_list = []\n",
        "\n",
        "  def register_agent(self, agent):\n",
        "    self.agent_list.append(agent)\n",
        "  \n",
        "  def is_valid_position(self, x, y):\n",
        "    ret = False\n",
        "    if 0 <= x and x < self.width and 0 <= y and y < self.height:\n",
        "      ret = True\n",
        "    return ret\n",
        "\n",
        "  def set_at(self, x, y, object):\n",
        "    if self.is_valid_position(x, y):\n",
        "      self.cells[x][y] = object\n",
        "\n",
        "  def get_at(self, x, y):\n",
        "    ret = None\n",
        "    if self.is_valid_position(x, y):\n",
        "      ret = self.cells[x][y]\n",
        "    return ret\n",
        "\n",
        "  def update(self):\n",
        "    for agent in self.agent_list:\n",
        "      agent.update()\n",
        "  \n",
        "  def draw(self, axis):\n",
        "    colors = [\"Red\", \"Blue\", \"Black\", \"Yellow\", \"Green\", \"Magenta\", \"Cyan\"]\n",
        "    kinds = []\n",
        "    x_lists = {}\n",
        "    y_lists = {}\n",
        "    for agent in self.agent_list:\n",
        "      if agent.kind() not in kinds:\n",
        "        kinds.append(agent.kind())\n",
        "        x_lists[agent.kind()] = []\n",
        "        y_lists[agent.kind()] = []\n",
        "      x_lists[agent.kind()].append(agent.x)\n",
        "      y_lists[agent.kind()].append(agent.y)\n",
        "    \n",
        "    imgs = []\n",
        "    for i, k in enumerate(kinds):\n",
        "      imgs.append(axis.scatter(x_lists[k], y_lists[k], color=colors[i]))\n",
        "    return imgs\n"
      ],
      "execution_count": null,
      "outputs": []
    },
    {
      "cell_type": "markdown",
      "metadata": {
        "id": "aVZHyIUkVys2"
      },
      "source": [
        "### エージェントのベースクラス"
      ]
    },
    {
      "cell_type": "code",
      "metadata": {
        "id": "4f0UDQTF9DqL"
      },
      "source": [
        "class Agent:\n",
        "  def __init__(self, space, x, y):\n",
        "    self.space = space\n",
        "    self.x = 0\n",
        "    self.y = 0\n",
        "    self.set_position(x, y)\n",
        "\n",
        "  def set_position(self, x, y):\n",
        "    self.space.set_at(self.x, self.y, None)\n",
        "    self.x = x\n",
        "    self.y = y\n",
        "    self.space.set_at(self.x, self.y, self)\n",
        "\n",
        "  def get_neighbors(self):\n",
        "    empty_cells = []\n",
        "    neighbors = []\n",
        "\n",
        "    dx_list = [-1, -1, -1, 0, 0, 1, 1, 1]\n",
        "    dy_list = [-1, 0, 1, -1, 1, -1, 0, 1]\n",
        "    for dx, dy in zip(dx_list, dy_list):\n",
        "      nx = self.x + dx\n",
        "      ny = self.y + dy\n",
        "      if self.space.is_valid_position(nx, ny):\n",
        "        if self.space.get_at(nx, ny) is None:\n",
        "          empty_cells.append((nx, ny))\n",
        "        else:\n",
        "          neighbors.append(self.space.get_at(nx, ny))\n",
        "    return neighbors, empty_cells\n",
        "\n",
        "  def count_neighbor_kinds(self):\n",
        "    neighbors, _ = self.get_neighbors()\n",
        "    same_num = 0\n",
        "    other_num = 0\n",
        "    for n in neighbors:\n",
        "      if n.kind() == self.kind():\n",
        "        same_num += 1\n",
        "      else:\n",
        "        other_num += 1\n",
        "    return same_num, other_num\n",
        "\n",
        "  def move(self):\n",
        "    _, empty_list = self.get_neighbors()\n",
        "    if 0 < len(empty_list):\n",
        "      new_x, new_y = empty_list[random.randrange(len(empty_list))]\n",
        "      self.set_position(new_x, new_y)\n",
        "\n",
        "  def update(self):\n",
        "    same_num, other_num = self.count_neighbor_kinds()\n",
        "    if self.need_to_move(same_num, other_num):\n",
        "      self.move()\n",
        "\n",
        "  def kind(self):\n",
        "    pass\n",
        "\n",
        "  def need_to_move(self, same_num, other_num):\n",
        "    pass\n"
      ],
      "execution_count": null,
      "outputs": []
    },
    {
      "cell_type": "markdown",
      "metadata": {
        "id": "LMnq0AfoVJy7"
      },
      "source": [
        "### 個別のエージェントのプログラム（許容水準）\n",
        "- AgentA: 近隣の同種の数が2以上\n",
        "- AgentB: 近隣の同種の数が近隣の駒数の1/3より多い"
      ]
    },
    {
      "cell_type": "code",
      "metadata": {
        "id": "nx11ifmyGHhP"
      },
      "source": [
        "class AgentA(Agent):\n",
        "  def kind(self):\n",
        "    return \"A\"\n",
        "\n",
        "  def need_to_move(self, same_num, other_num):\n",
        "    yn = False\n",
        "    if same_num < 2:\n",
        "      yn = True\n",
        "    return yn\n"
      ],
      "execution_count": null,
      "outputs": []
    },
    {
      "cell_type": "code",
      "metadata": {
        "id": "C-2tPVnnO3GF"
      },
      "source": [
        "class AgentB(Agent):\n",
        "  def kind(self):\n",
        "    return \"B\"\n",
        "  \n",
        "  def need_to_move(self, same_num, other_num):\n",
        "    yn = False\n",
        "    if 3 * same_num <= (same_num + other_num):\n",
        "      yn = True\n",
        "    return yn    "
      ],
      "execution_count": null,
      "outputs": []
    },
    {
      "cell_type": "markdown",
      "metadata": {
        "id": "-K3Yq-DFUuxr"
      },
      "source": [
        "### 設定\n",
        "- WIDTH, HEIGHT: セル空間の大きさ\n",
        "- AGENTS: エージェントの種類と数"
      ]
    },
    {
      "cell_type": "code",
      "metadata": {
        "id": "yQTbJm7VNecO"
      },
      "source": [
        "WIDTH = 100\n",
        "HEIGHT = 100\n",
        "AGENTS = {AgentA:1000, AgentB:1000}"
      ],
      "execution_count": null,
      "outputs": []
    },
    {
      "cell_type": "markdown",
      "metadata": {
        "id": "p1KdbWYiVGs6"
      },
      "source": [
        "### シミュレーション"
      ]
    },
    {
      "cell_type": "code",
      "metadata": {
        "id": "U7txdhz4Nr8_"
      },
      "source": [
        "def img_update(i, space, ax):\n",
        "  ax.cla()\n",
        "  space.update()\n",
        "  return space.draw(ax)\n",
        "\n",
        "space = CellSpace(WIDTH, HEIGHT)\n",
        "pos_list = [(x,y) for x in range(WIDTH) for y in range(HEIGHT)]\n",
        "for kind in AGENTS.keys():\n",
        "  for _ in range(AGENTS[kind]):\n",
        "    pos = pos_list[random.randrange(len(pos_list))]\n",
        "    a = kind(space, pos[0], pos[1])\n",
        "    space.register_agent(a)\n",
        "    pos_list.remove(pos)\n",
        "\n",
        "fig, ax = plt.subplots()\n",
        "\n",
        "ani = animation.FuncAnimation(fig, img_update, fargs=(space, ax), interval=100, frames=500)\n",
        "HTML(ani.to_jshtml())"
      ],
      "execution_count": null,
      "outputs": []
    },
    {
      "cell_type": "code",
      "metadata": {
        "id": "I4yVVo67QcKU"
      },
      "source": [
        ""
      ],
      "execution_count": null,
      "outputs": []
    }
  ]
}